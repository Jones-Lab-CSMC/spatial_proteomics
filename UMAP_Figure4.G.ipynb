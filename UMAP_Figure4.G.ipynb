{
 "cells": [
  {
   "cell_type": "code",
   "execution_count": null,
   "metadata": {},
   "outputs": [],
   "source": [
    "################################################################################\n",
    "##### plot joint batch umaps\n",
    "################################################################################\n",
    "# conda environment akoya_analysis2\n",
    "# read in a h5ad file\n",
    "import anndata as ad\n",
    "import scanpy as sc\n",
    "import seaborn as sns\n",
    "import numpy as np\n",
    "\n",
    "adata = ad.read_h5ad('/Users/dabkek/Dropbox/Kruttika_Folder/Jones_lab/r_studio_data_processing/POCROC_analysis_12_15/analysis/Akoya_analysis_91123/Immune_all_121423.h5ad')\n",
    "adata"
   ]
  },
  {
   "cell_type": "code",
   "execution_count": null,
   "metadata": {},
   "outputs": [],
   "source": [
    "# remove a single cell from the dataset\n",
    "label_to_color = {'B cells': '#1f77b4',\n",
    " 'Cytotoxic T cells': '#ff7f0e',\n",
    " 'Dendritic cells': '#279e68',\n",
    " 'Helper T cells': '#d62728',\n",
    " 'M1 Macrophages': '#17becf',\n",
    " 'M2 Macrophages': '#8c564b',\n",
    " 'Monocytes': '#e377c2',\n",
    " 'NK cells': '#b5bd61',\n",
    " 'T cells double negative': '#aec7e8',\n",
    " 'Tregs': '#aa40fc'}\n",
    "\n",
    "\n",
    "\n",
    "# tregs changed with M1 macrophages\n",
    "\n",
    "\n",
    "sc.set_figure_params(scanpy=True, fontsize=20, dpi_save=300, figsize=(8,8))\n",
    "\n",
    "sc.pl.umap(adata, color='Immune_type', title='All Immune cells', palette=label_to_color, size=0.5)\n",
    "           #save='all_immune_cells.png', show=False)  "
   ]
  },
  {
   "cell_type": "code",
   "execution_count": 3,
   "metadata": {},
   "outputs": [],
   "source": [
    "batch_to_patient = {'0': '25258', '1': '24487', '2': '41323',\n",
    "                    '3': '18975', '4': '16030', '5': '30961',\n",
    "                    '6': '34001', '7': '45097', '8': '24487',\n",
    "                    '9': '41245', '10': '40729', '11': '16030',\n",
    "                    '12': '18915', '13': '27561', '14': '45097',\n",
    "                    '15': '27561', '16': '30961', '17': '22720',\n",
    "                    '18': '25258', '19': '41323', '20': '18975',\n",
    "                    '21': '40729', '22': '41245'}\n",
    "\n",
    "adata.obs['patient_id'] = adata.obs['batch'].map(batch_to_patient)"
   ]
  },
  {
   "cell_type": "code",
   "execution_count": null,
   "metadata": {},
   "outputs": [],
   "source": [
    "import scanpy as sc\n",
    "import numpy as np\n",
    "import colorcet as cc\n",
    "\n",
    "# Seed for reproducibility\n",
    "np.random.seed(1234)\n",
    "\n",
    "# Get unique batches\n",
    "unique_batches = adata.obs['patient_id'].unique()\n",
    "\n",
    "# Create a list to hold the shuffled indices for each batch\n",
    "shuffled_indices = []\n",
    "\n",
    "# Shuffle indices within each batch\n",
    "for batch in unique_batches:\n",
    "    batch_indices = adata.obs[adata.obs['patient_id'] == batch].index\n",
    "    shuffled_batch_indices = np.random.permutation(batch_indices)\n",
    "    shuffled_indices.extend(shuffled_batch_indices)\n",
    "\n",
    "# Shuffle the combined indices again to mix different batches\n",
    "final_shuffled_indices = np.random.permutation(shuffled_indices)\n",
    "\n",
    "# Subset adata with the final shuffled indices\n",
    "adata_shuffled = adata[final_shuffled_indices]\n",
    "\n",
    "# Plot UMAP\n",
    "sc.pl.umap(adata_shuffled, color='patient_id', title='All Immune cells', palette=sns.color_palette(cc.glasbey, n_colors=13), size=0.5)\n",
    "           #save='all_immune_cells_patientID.png', show=False)"
   ]
  }
 ],
 "metadata": {
  "kernelspec": {
   "display_name": "akoya_analysis2",
   "language": "python",
   "name": "python3"
  },
  "language_info": {
   "codemirror_mode": {
    "name": "ipython",
    "version": 3
   },
   "file_extension": ".py",
   "mimetype": "text/x-python",
   "name": "python",
   "nbconvert_exporter": "python",
   "pygments_lexer": "ipython3",
   "version": "3.10.13"
  }
 },
 "nbformat": 4,
 "nbformat_minor": 2
}
